{
 "cells": [
  {
   "cell_type": "code",
   "execution_count": 3,
   "metadata": {},
   "outputs": [
    {
     "name": "stdout",
     "output_type": "stream",
     "text": [
      "[[1 4 2]\n",
      " [2 5 3]\n",
      " [5 1 6]\n",
      " [4 2 8]]\n",
      "[19 26 19 20]\n",
      "(3,)\n",
      "[ 2.80558885  3.98995956  0.12649808]\n",
      "[ 2.82045906  3.9813337   0.14765516]\n"
     ]
    }
   ],
   "source": [
    "# 批量梯度下降BGD、随机梯度下降SGD实现\n",
    "import numpy as np \n",
    "import random\n",
    "\n",
    "# def batchGradientDescent(x, y, thata, alpha, a, maxInteration):\n",
    " \n",
    "def BGD(x, y, theta, alpha, m, maxInteration):\n",
    "    x_train = x.transpose()\n",
    "    for i in range(0, maxInteration):\n",
    "        hypothesis = np.dot(x, theta)\n",
    "        # 损失函数\n",
    "        loss = hypothesis - y\n",
    "        # 下降梯度\n",
    "        gradient = np.dot(x_train, loss) / m\n",
    "        # 求导之后得到theta\n",
    "        theta = theta - alpha * gradient\n",
    "    return theta\n",
    " \n",
    " \n",
    "def SGD(x, y, theta, alpha, m, maxInteration):\n",
    "    data = []\n",
    "    for i in range(4):\n",
    "        data.append(i)\n",
    "    x_train = x.transpose()\n",
    "    for i in range(0, maxInteration):\n",
    "        hypothesis = np.dot(x, theta)\n",
    "        # 损失函数\n",
    "        loss = hypothesis - y\n",
    "        # 选取一个随机数\n",
    "        index = random.sample(data, 1)\n",
    "        index1 = index[0]\n",
    "        # 下降梯度\n",
    "        gradient = loss[index1] * x[index1]\n",
    "        # 求导之后得到theta\n",
    "        theta = theta - alpha * gradient\n",
    "    return theta\n",
    " \n",
    " \n",
    "def main():\n",
    "    trainData = np.array([[1, 4, 2], [2, 5, 3], [5, 1, 6], [4, 2, 8]])\n",
    "    trainLabel = np.array([19, 26, 19, 20])\n",
    "    print(trainData)\n",
    "    print(trainLabel)\n",
    "    m, n = np.shape(trainData)\n",
    "    theta = np.ones(n)\n",
    "    print(theta.shape)\n",
    "    maxInteration = 500\n",
    "    alpha = 0.01\n",
    "    theta1 = BGD(trainData, trainLabel, theta, alpha, m, maxInteration)\n",
    "    print(theta1)\n",
    "    theta2 = SGD(trainData, trainLabel, theta, alpha, m, maxInteration)\n",
    "    print(theta2)\n",
    "    return\n",
    " \n",
    " \n",
    "if __name__ == \"__main__\":\n",
    "   main()"
   ]
  }
 ],
 "metadata": {
  "kernelspec": {
   "display_name": "Python 3",
   "language": "python",
   "name": "python3"
  },
  "language_info": {
   "codemirror_mode": {
    "name": "ipython",
    "version": 3
   },
   "file_extension": ".py",
   "mimetype": "text/x-python",
   "name": "python",
   "nbconvert_exporter": "python",
   "pygments_lexer": "ipython3",
   "version": "3.5.4"
  }
 },
 "nbformat": 4,
 "nbformat_minor": 2
}
