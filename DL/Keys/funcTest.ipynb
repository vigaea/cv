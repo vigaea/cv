{
 "cells": [
  {
   "cell_type": "code",
   "execution_count": 28,
   "metadata": {},
   "outputs": [
    {
     "name": "stdout",
     "output_type": "stream",
     "text": [
      "[[1 2 3]\n",
      " [4 5 6]\n",
      " [6 7 8]]\n",
      "[[1 4 6]\n",
      " [2 5 7]\n",
      " [3 6 8]]\n",
      "[[1 4 6]\n",
      " [2 5 7]\n",
      " [3 6 8]]\n",
      "[[1 2 3]\n",
      " [4 5 6]\n",
      " [6 7 8]]\n"
     ]
    }
   ],
   "source": [
    "import numpy as np\n",
    "\n",
    "# 1 - transpose() \n",
    "# transpose根据shape进行变换，\n",
    "\n",
    "# 对于二维数组，相当于转置\n",
    "a = np.array([[1,2,3], [4,5,6], [6,7,8]])\n",
    "print(a)\n",
    "print(a.transpose())\n",
    "print(a.transpose(1, 0))\n",
    "print(a.transpose((0, 1)))"
   ]
  },
  {
   "cell_type": "code",
   "execution_count": 49,
   "metadata": {},
   "outputs": [
    {
     "name": "stdout",
     "output_type": "stream",
     "text": [
      "[[[ 0  1  2  3]\n",
      "  [ 4  5  6  7]\n",
      "  [ 8  9 10 11]]\n",
      "\n",
      " [[12 13 14 15]\n",
      "  [16 17 18 19]\n",
      "  [20 21 22 23]]]\n",
      "---------------------------\n",
      "[[[ 0  1  2  3]\n",
      "  [12 13 14 15]]\n",
      "\n",
      " [[ 4  5  6  7]\n",
      "  [16 17 18 19]]\n",
      "\n",
      " [[ 8  9 10 11]\n",
      "  [20 21 22 23]]]\n",
      "---------------------------\n",
      "[[[ 0  4  8]\n",
      "  [12 16 20]]\n",
      "\n",
      " [[ 1  5  9]\n",
      "  [13 17 21]]\n",
      "\n",
      " [[ 2  6 10]\n",
      "  [14 18 22]]\n",
      "\n",
      " [[ 3  7 11]\n",
      "  [15 19 23]]]\n",
      "---------------------------\n",
      "[[[ 0  4  8]\n",
      "  [12 16 20]]\n",
      "\n",
      " [[ 1  5  9]\n",
      "  [13 17 21]]\n",
      "\n",
      " [[ 2  6 10]\n",
      "  [14 18 22]]\n",
      "\n",
      " [[ 3  7 11]\n",
      "  [15 19 23]]]\n"
     ]
    }
   ],
   "source": [
    "# 对于多维矩阵，transpose()根据shape变换\n",
    "# 比如数字4的索引为(0,1,0)，原始shape(0,1,2)经transpose(1,0,2)变为(1,0,0)\n",
    "\n",
    "arr = np.arange(24).reshape(2,3,4)\n",
    "print(arr)\n",
    "print('---------------------------')\n",
    "print(arr.transpose(1,0,2))\n",
    "print('---------------------------')\n",
    "print(arr.transpose((2,0,1)))\n",
    "print('---------------------------')\n",
    "print(arr.transpose(2,0,1))\n"
   ]
  },
  {
   "cell_type": "code",
   "execution_count": 51,
   "metadata": {},
   "outputs": [
    {
     "name": "stdout",
     "output_type": "stream",
     "text": [
      "14\n"
     ]
    }
   ],
   "source": [
    "# 2 - dot  数组的点积\n",
    "a1 = np.array([1,2,3])\n",
    "a2 = np.array([1,2,3])\n",
    "print(np.dot(a1, a2)) "
   ]
  }
 ],
 "metadata": {
  "kernelspec": {
   "display_name": "Python 3",
   "language": "python",
   "name": "python3"
  },
  "language_info": {
   "codemirror_mode": {
    "name": "ipython",
    "version": 3
   },
   "file_extension": ".py",
   "mimetype": "text/x-python",
   "name": "python",
   "nbconvert_exporter": "python",
   "pygments_lexer": "ipython3",
   "version": "3.5.4"
  }
 },
 "nbformat": 4,
 "nbformat_minor": 2
}
